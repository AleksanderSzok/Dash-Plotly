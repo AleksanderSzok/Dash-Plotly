{
 "cells": [
  {
   "cell_type": "code",
   "execution_count": 1,
   "metadata": {},
   "outputs": [],
   "source": [
    "import requests\n",
    "import re\n",
    "from bs4 import BeautifulSoup as bs\n",
    "import pandas as pd\n",
    "import json\n",
    "import numpy as np"
   ]
  },
  {
   "cell_type": "code",
   "execution_count": 2,
   "metadata": {},
   "outputs": [],
   "source": [
    "import concurrent.futures"
   ]
  },
  {
   "cell_type": "code",
   "execution_count": 53,
   "metadata": {},
   "outputs": [],
   "source": [
    "pd.set_option('display.notebook_repr_html', False)"
   ]
  },
  {
   "cell_type": "code",
   "execution_count": 4,
   "metadata": {},
   "outputs": [],
   "source": [
    "def create_infobox(url):\n",
    "    q = requests.get(url)\n",
    "    webpage = bs(q.content, 'lxml')\n",
    "    table_info = webpage.find_all(\"div\", id=re.compile(\"receipt-.*\"))\n",
    "    table_info_rows = table_info[0].select('li > span')\n",
    "    table_info_rows2 = table_info[0].select('li b')\n",
    "    table_info_rows_text = [elem.get_text() for elem in table_info_rows]\n",
    "    table_info_rows2_text = [elem.get_text(\" \", strip=True) for elem in table_info_rows2]\n",
    "    price_info = webpage.find('span', {'class':'priceInfo__value'}).get_text(\" \", strip=True)\n",
    "    price_info_m2 = webpage.find('span', {'class':'priceInfo__additional'})\n",
    "    if price_info_m2 is not None:\n",
    "        price_info_m2 = price_info_m2.get_text(\" \", strip=True)\n",
    "    else:\n",
    "        price_info_m2 = 'no data'\n",
    "    mapy = str(webpage.find_all('script')[-15].string)\n",
    "    pattern = re.compile(r'locationParams: (.+),\\n        offersId', re.DOTALL)\n",
    "    tmp = pattern.search(mapy).group(1)\n",
    "    data = json.loads(tmp)\n",
    "    coord =  data['lokalizacja_szerokosc-geograficzna-y'], data['lokalizacja_dlugosc-geograficzna-x']\n",
    "    table_info_rows_text += ['Cena', 'Cena za metr', 'Współrzędne']\n",
    "    table_info_rows2_text += [price_info,price_info_m2, [coord]]\n",
    "    return dict(zip(table_info_rows_text,table_info_rows2_text))"
   ]
  },
  {
   "cell_type": "code",
   "execution_count": 5,
   "metadata": {},
   "outputs": [],
   "source": [
    "def list_of_urls(url):\n",
    "    q = requests.get(url)\n",
    "    webpage = bs(q.content, 'lxml')\n",
    "    test1 = webpage.find_all('a', {'class':'teaserUnified__anchor'})\n",
    "    url_list = [elem['href'] for elem in test1]\n",
    "    return url_list"
   ]
  },
  {
   "cell_type": "code",
   "execution_count": null,
   "metadata": {},
   "outputs": [],
   "source": [
    "baza_mieszkan = pd.DataFrame()\n",
    "for i in range(1,75):    \n",
    "    with concurrent.futures.ThreadPoolExecutor() as executor:\n",
    "        futures = []\n",
    "        for url in list_of_urls('https://gratka.pl/nieruchomosci/domy/warszawa?page=%d' %i):\n",
    "            futures.append(executor.submit(create_infobox, url))\n",
    "        for future in concurrent.futures.as_completed(futures):\n",
    "            baza_mieszkan = baza_mieszkan.append(future.result(), ignore_index=True)         "
   ]
  },
  {
   "cell_type": "code",
   "execution_count": 22,
   "metadata": {},
   "outputs": [],
   "source": [
    "baza_domow.to_csv('baza_domow.csv', index=False)"
   ]
  },
  {
   "cell_type": "markdown",
   "metadata": {},
   "source": [
    "### Counting NaN in columns"
   ]
  },
  {
   "cell_type": "code",
   "execution_count": 92,
   "metadata": {},
   "outputs": [
    {
     "data": {
      "text/plain": [
       "Cena                                    0\n",
       "Cena za metr                            0\n",
       "Forma kuchni                         2791\n",
       "Forma własności                      2988\n",
       "Liczba pięter w budynku               238\n",
       "Liczba pokoi                            2\n",
       "Lokalizacja                             0\n",
       "Numer referencyjny                      0\n",
       "Piętro                                 26\n",
       "Powierzchnia w m2                       0\n",
       "Rok budowy                           1263\n",
       "Typ zabudowy                         1522\n",
       "Wspolrzedne                             0\n",
       "Powierzchnia dodatkowa               2539\n",
       "Miejsce parkingowe                   3750\n",
       "Nazwa inwestycji                     2973\n",
       "Dostępność od                        3805\n",
       "Czy mieszkanie ma łazienkę?          3504\n",
       "Liczba miejsc parkingowych           3488\n",
       "Materiał budynku                     3556\n",
       "Okna                                 4091\n",
       "Stan                                 4356\n",
       "Usytuowanie względem stron świata    3969\n",
       "Forma / wyposażenie łazienki         4380\n",
       "Edukacja                             4413\n",
       "Komunikacja                          4412\n",
       "Pozostałe                            4412\n",
       "Zdrowie i uroda                      4412\n",
       "Name: NaN, dtype: int64"
      ]
     },
     "execution_count": 92,
     "metadata": {},
     "output_type": "execute_result"
    }
   ],
   "source": [
    "x=pd.Series([baza_mieszkan.loc[:,column].isna().sum() for column in baza_mieszkan.columns], index=baza_mieszkan.columns, name='NaN')\n",
    "x"
   ]
  },
  {
   "cell_type": "code",
   "execution_count": 4,
   "metadata": {},
   "outputs": [],
   "source": [
    "baza_mieszkan = pd.read_csv('baza_mieszkan.csv')\n",
    "baza_domow = pd.read_csv('baza_domow.csv')"
   ]
  },
  {
   "cell_type": "code",
   "execution_count": 5,
   "metadata": {},
   "outputs": [],
   "source": [
    "baza_mieszkan.drop_duplicates(inplace=True)\n",
    "baza_mieszkan = baza_mieszkan.loc[:,['Cena', 'Cena za metr', 'Liczba pięter w budynku', 'Liczba pokoi', 'Lokalizacja','Piętro','Powierzchnia w m2','Wspolrzedne']]"
   ]
  },
  {
   "cell_type": "code",
   "execution_count": 6,
   "metadata": {},
   "outputs": [],
   "source": [
    "baza_mieszkan['Liczba pięter w budynku']= baza_mieszkan['Liczba pięter w budynku'].str.slice(-2)\n",
    "baza_mieszkan['Liczba pokoi'] = baza_mieszkan['Liczba pokoi'].str.slice(-1)"
   ]
  },
  {
   "cell_type": "code",
   "execution_count": 7,
   "metadata": {},
   "outputs": [
    {
     "name": "stderr",
     "output_type": "stream",
     "text": [
      "C:\\Users\\aszok\\AppData\\Roaming\\Python\\Python37\\site-packages\\ipykernel_launcher.py:3: FutureWarning: The default value of regex will change from True to False in a future version.\n",
      "  This is separate from the ipykernel package so we can avoid doing imports until\n"
     ]
    }
   ],
   "source": [
    "baza_mieszkan['Cena'] = baza_mieszkan['Cena'].str.replace('Zapytaj o cenę', '-1')\n",
    "baza_mieszkan['Cena'] = baza_mieszkan['Cena'].str.replace(',', '.')\n",
    "baza_mieszkan['Cena'] = baza_mieszkan['Cena'].str.replace(r'[^0-9.]+', '')"
   ]
  },
  {
   "cell_type": "code",
   "execution_count": 8,
   "metadata": {},
   "outputs": [],
   "source": [
    "baza_mieszkan['Cena za metr'] = baza_mieszkan['Cena za metr'].str.replace(',','.')\n",
    "baza_mieszkan['Cena za metr'] = baza_mieszkan['Cena za metr'].str.replace('no data', '-1 0 0')\n",
    "baza_mieszkan['Cena za metr'] = baza_mieszkan['Cena za metr'].str.split(' ').str[:-2].str.join('')"
   ]
  },
  {
   "cell_type": "code",
   "execution_count": null,
   "metadata": {},
   "outputs": [],
   "source": [
    "baza_mieszkan['Piętro']= baza_mieszkan['Piętro'].str.replace('parter', '0').str.replace(r'[^0-9]+', '')"
   ]
  },
  {
   "cell_type": "code",
   "execution_count": 10,
   "metadata": {},
   "outputs": [],
   "source": [
    "baza_mieszkan['Powierzchnia w m2'] = baza_mieszkan['Powierzchnia w m2'].str.split(' ').str[:-2].str.join('').str.replace(',','.')"
   ]
  },
  {
   "cell_type": "code",
   "execution_count": 11,
   "metadata": {},
   "outputs": [],
   "source": [
    "df = baza_mieszkan.Wspolrzedne"
   ]
  },
  {
   "cell_type": "code",
   "execution_count": 12,
   "metadata": {},
   "outputs": [],
   "source": [
    "al = df.str.split(r'(\\d+\\.\\d*), (\\d+\\.\\d*)', expand=True).iloc[:,[1,2]]\n",
    "al[2], al[1] = al[2].values.astype(float), al[1].values.astype(float)"
   ]
  },
  {
   "cell_type": "code",
   "execution_count": 13,
   "metadata": {},
   "outputs": [],
   "source": [
    "al.columns = ['Szerokosc', 'Dlugosc']"
   ]
  },
  {
   "cell_type": "code",
   "execution_count": 14,
   "metadata": {},
   "outputs": [],
   "source": [
    "baza_mieszkan.drop(['Wspolrzedne'], axis=1, inplace=True)"
   ]
  },
  {
   "cell_type": "code",
   "execution_count": 15,
   "metadata": {},
   "outputs": [],
   "source": [
    "baza_mieszkan = pd.concat([baza_mieszkan,al], axis=1)"
   ]
  },
  {
   "cell_type": "code",
   "execution_count": 17,
   "metadata": {},
   "outputs": [],
   "source": [
    "baza_mieszkan.Lokalizacja = baza_mieszkan.Lokalizacja.str.split(' , ').str.get(1)"
   ]
  },
  {
   "cell_type": "code",
   "execution_count": 18,
   "metadata": {},
   "outputs": [],
   "source": [
    "dist_keys  = np.unique(baza_mieszkan.Lokalizacja.values)"
   ]
  },
  {
   "cell_type": "code",
   "execution_count": 19,
   "metadata": {},
   "outputs": [
    {
     "data": {
      "text/plain": [
       "array(['                                        Bielany/ Żoliborz, mazowieckie',\n",
       "       '                                        Nowe Włochy, mazowieckie',\n",
       "       'Aleksandrów', 'Bemowo', 'Białołęka', 'Białołęka Dworska',\n",
       "       'Bielany', 'Brzeziny', 'Bródno', 'Błonia Wilanowskie', 'Chrzanów',\n",
       "       'Czechowice', 'Czerniaków', 'Czyste', 'Falenica', 'Gocław',\n",
       "       'Gocławek', 'Grochów', 'Grodzisk', 'Górny Mokotów', 'Henryków',\n",
       "       'Jeziorki Południowe', 'Kawęczyn-Wygoda', 'Kobiałka', 'Ksawerów',\n",
       "       'Marysin Wawerski', 'Miedzeszyn', 'Mirów', 'Międzylesie',\n",
       "       'Mokotów', 'Muranów', 'Młociny', 'Niedźwiadek', 'Nowa Praga',\n",
       "       'Nowe Włochy', 'Nowodwory', 'Ochota', 'Odolany', 'Opacz Wielka',\n",
       "       'Powiśle', 'Powsinek', 'Praga-Południe', 'Praga-Północ', 'Pyry',\n",
       "       'Radość', 'Rakowiec', 'Raków', 'Rembertów', 'Sadul',\n",
       "       'Sady Żoliborskie', 'Sadyba', 'Saska Kępa', 'Sielce', 'Skorosze',\n",
       "       'Stara Miłosna', 'Stara Ochota', 'Stara Praga', 'Stare Miasto',\n",
       "       'Stare Włochy', 'Stary Mokotów', 'Stary Żoliborz', 'Stegny',\n",
       "       'Szamocin', 'Szamoty', 'Szczęśliwice', 'Służew', 'Służewiec',\n",
       "       'Tarchomin', 'Targówek', 'Ulrychów', 'Ursus', 'Ursynów', 'Wawer',\n",
       "       'Wierzbno', 'Wilanów', 'Wilanów Wysoki', 'Wola', 'Wyczółki',\n",
       "       'Włochy', 'Zacisze', 'Zawady', 'mazowieckie', 'Śródmieście',\n",
       "       'Śródmieście Południowe', 'Żerań', 'Żoliborz'], dtype=object)"
      ]
     },
     "execution_count": 19,
     "metadata": {},
     "output_type": "execute_result"
    }
   ],
   "source": [
    "dist_keys"
   ]
  },
  {
   "cell_type": "code",
   "execution_count": 20,
   "metadata": {},
   "outputs": [],
   "source": [
    "list_district = ['Bielany', 'Włochy','Białołęka','Bemowo','Białołęka','Białołęka',\n",
    "                'Bielany','Białołęka','Targówek','Wilanów','Bemowo','Ursus',\n",
    "                'Mokotów','Wola','Wawer','Praga-Południe','Praga-Południe',\n",
    "                'Praga-Południe','Białołęka','Mokotów','Białołęka','Ursynów',\n",
    "                'Rembertów','Białołęka','Mokotów','Wawer','Wawer','Wola','Wawer',\n",
    "                'Mokotów','Śródmieście','Ursynów','Ursus','Praga-Północ','Włochy',\n",
    "                'Białołęka','Ochota','Wola','Włochy','Śródmieście','Wilanów','Praga-Południe',\n",
    "                'Praga-Północ','Ursynów','Wawer','Ochota','Włochy','Rembertów','Wawer',\n",
    "                'Żoliborz','Mokotów','Praga-Południe','Mokotów','Ursus','Wesoła', 'Ochota',\n",
    "                'Praga-Północ','Śródmieście','Włochy','Mokotów','Żoliborz','Mokotów',\n",
    "                'Białołęka','Ursus','Ochota','Mokotów','Mokotów','Białołęka','Targówek',\n",
    "                'Wola','Ursus','Ursynów','Wawer','Mokotów','Wilanów','Wilanów','Wola',\n",
    "                'Ursynów','Włochy','Targówek','Wilanów','Mazowieckie','Śródmieście','Śródmieście',\n",
    "                'Białołęka','Żoliborz']"
   ]
  },
  {
   "cell_type": "code",
   "execution_count": 21,
   "metadata": {},
   "outputs": [],
   "source": [
    "dict_district = dict(zip(dist_keys, list_district))"
   ]
  },
  {
   "cell_type": "code",
   "execution_count": null,
   "metadata": {},
   "outputs": [],
   "source": [
    "baza_mieszkan.Lokalizacja = baza_mieszkan.Lokalizacja.str.replace(r'[\\S\\s]+',lambda m: dict_district[m.group()])"
   ]
  },
  {
   "cell_type": "code",
   "execution_count": 23,
   "metadata": {},
   "outputs": [
    {
     "data": {
      "text/html": [
       "<div>\n",
       "<style scoped>\n",
       "    .dataframe tbody tr th:only-of-type {\n",
       "        vertical-align: middle;\n",
       "    }\n",
       "\n",
       "    .dataframe tbody tr th {\n",
       "        vertical-align: top;\n",
       "    }\n",
       "\n",
       "    .dataframe thead th {\n",
       "        text-align: right;\n",
       "    }\n",
       "</style>\n",
       "<table border=\"1\" class=\"dataframe\">\n",
       "  <thead>\n",
       "    <tr style=\"text-align: right;\">\n",
       "      <th></th>\n",
       "      <th>Cena</th>\n",
       "      <th>Cena za metr</th>\n",
       "      <th>Liczba pięter w budynku</th>\n",
       "      <th>Liczba pokoi</th>\n",
       "      <th>Lokalizacja</th>\n",
       "      <th>Piętro</th>\n",
       "      <th>Powierzchnia w m2</th>\n",
       "      <th>Szerokosc</th>\n",
       "      <th>Dlugosc</th>\n",
       "    </tr>\n",
       "  </thead>\n",
       "  <tbody>\n",
       "    <tr>\n",
       "      <th>13</th>\n",
       "      <td>460000</td>\n",
       "      <td>8156.03</td>\n",
       "      <td>3</td>\n",
       "      <td>2</td>\n",
       "      <td>Mazowieckie</td>\n",
       "      <td>3</td>\n",
       "      <td>56.40</td>\n",
       "      <td>52.319107</td>\n",
       "      <td>21.057799</td>\n",
       "    </tr>\n",
       "    <tr>\n",
       "      <th>76</th>\n",
       "      <td>1650000</td>\n",
       "      <td>10312.50</td>\n",
       "      <td>16</td>\n",
       "      <td>4</td>\n",
       "      <td>Mazowieckie</td>\n",
       "      <td>14</td>\n",
       "      <td>160</td>\n",
       "      <td>52.255887</td>\n",
       "      <td>20.987646</td>\n",
       "    </tr>\n",
       "    <tr>\n",
       "      <th>83</th>\n",
       "      <td>1995000</td>\n",
       "      <td>6650</td>\n",
       "      <td>3</td>\n",
       "      <td>7</td>\n",
       "      <td>Mazowieckie</td>\n",
       "      <td>0</td>\n",
       "      <td>300</td>\n",
       "      <td>52.229700</td>\n",
       "      <td>21.012200</td>\n",
       "    </tr>\n",
       "    <tr>\n",
       "      <th>85</th>\n",
       "      <td>492000</td>\n",
       "      <td>10784.74</td>\n",
       "      <td>4</td>\n",
       "      <td>2</td>\n",
       "      <td>Mazowieckie</td>\n",
       "      <td>4</td>\n",
       "      <td>45.62</td>\n",
       "      <td>52.208394</td>\n",
       "      <td>20.937170</td>\n",
       "    </tr>\n",
       "    <tr>\n",
       "      <th>100</th>\n",
       "      <td>597276</td>\n",
       "      <td>11426.75</td>\n",
       "      <td>8</td>\n",
       "      <td>2</td>\n",
       "      <td>Mazowieckie</td>\n",
       "      <td>1</td>\n",
       "      <td>52.27</td>\n",
       "      <td>52.220859</td>\n",
       "      <td>20.957236</td>\n",
       "    </tr>\n",
       "    <tr>\n",
       "      <th>...</th>\n",
       "      <td>...</td>\n",
       "      <td>...</td>\n",
       "      <td>...</td>\n",
       "      <td>...</td>\n",
       "      <td>...</td>\n",
       "      <td>...</td>\n",
       "      <td>...</td>\n",
       "      <td>...</td>\n",
       "      <td>...</td>\n",
       "    </tr>\n",
       "    <tr>\n",
       "      <th>3612</th>\n",
       "      <td>1</td>\n",
       "      <td>-1</td>\n",
       "      <td>5</td>\n",
       "      <td>3</td>\n",
       "      <td>Mazowieckie</td>\n",
       "      <td>1</td>\n",
       "      <td>57.78</td>\n",
       "      <td>52.193600</td>\n",
       "      <td>20.941200</td>\n",
       "    </tr>\n",
       "    <tr>\n",
       "      <th>3613</th>\n",
       "      <td>1</td>\n",
       "      <td>-1</td>\n",
       "      <td>5</td>\n",
       "      <td>4</td>\n",
       "      <td>Mazowieckie</td>\n",
       "      <td>4</td>\n",
       "      <td>72.46</td>\n",
       "      <td>52.193600</td>\n",
       "      <td>20.941200</td>\n",
       "    </tr>\n",
       "    <tr>\n",
       "      <th>3614</th>\n",
       "      <td>1</td>\n",
       "      <td>-1</td>\n",
       "      <td>5</td>\n",
       "      <td>3</td>\n",
       "      <td>Mazowieckie</td>\n",
       "      <td>4</td>\n",
       "      <td>63.55</td>\n",
       "      <td>52.193600</td>\n",
       "      <td>20.941200</td>\n",
       "    </tr>\n",
       "    <tr>\n",
       "      <th>3743</th>\n",
       "      <td>403560</td>\n",
       "      <td>7200</td>\n",
       "      <td>3</td>\n",
       "      <td>3</td>\n",
       "      <td>Mazowieckie</td>\n",
       "      <td>1</td>\n",
       "      <td>56.05</td>\n",
       "      <td>52.224392</td>\n",
       "      <td>21.227209</td>\n",
       "    </tr>\n",
       "    <tr>\n",
       "      <th>3872</th>\n",
       "      <td>1</td>\n",
       "      <td>-1</td>\n",
       "      <td>5</td>\n",
       "      <td>2</td>\n",
       "      <td>Mazowieckie</td>\n",
       "      <td>5</td>\n",
       "      <td>44.37</td>\n",
       "      <td>52.193600</td>\n",
       "      <td>20.941200</td>\n",
       "    </tr>\n",
       "  </tbody>\n",
       "</table>\n",
       "<p>329 rows × 9 columns</p>\n",
       "</div>"
      ],
      "text/plain": [
       "         Cena Cena za metr Liczba pięter w budynku Liczba pokoi  Lokalizacja  \\\n",
       "13     460000      8156.03                       3            2  Mazowieckie   \n",
       "76    1650000     10312.50                      16            4  Mazowieckie   \n",
       "83    1995000         6650                       3            7  Mazowieckie   \n",
       "85     492000     10784.74                       4            2  Mazowieckie   \n",
       "100    597276     11426.75                       8            2  Mazowieckie   \n",
       "...       ...          ...                     ...          ...          ...   \n",
       "3612        1           -1                       5            3  Mazowieckie   \n",
       "3613        1           -1                       5            4  Mazowieckie   \n",
       "3614        1           -1                       5            3  Mazowieckie   \n",
       "3743   403560         7200                       3            3  Mazowieckie   \n",
       "3872        1           -1                       5            2  Mazowieckie   \n",
       "\n",
       "     Piętro Powierzchnia w m2  Szerokosc    Dlugosc  \n",
       "13        3             56.40  52.319107  21.057799  \n",
       "76       14               160  52.255887  20.987646  \n",
       "83        0               300  52.229700  21.012200  \n",
       "85        4             45.62  52.208394  20.937170  \n",
       "100       1             52.27  52.220859  20.957236  \n",
       "...     ...               ...        ...        ...  \n",
       "3612      1             57.78  52.193600  20.941200  \n",
       "3613      4             72.46  52.193600  20.941200  \n",
       "3614      4             63.55  52.193600  20.941200  \n",
       "3743      1             56.05  52.224392  21.227209  \n",
       "3872      5             44.37  52.193600  20.941200  \n",
       "\n",
       "[329 rows x 9 columns]"
      ]
     },
     "execution_count": 23,
     "metadata": {},
     "output_type": "execute_result"
    }
   ],
   "source": [
    "baza_mieszkan.loc[baza_mieszkan.Lokalizacja == 'Mazowieckie',:]"
   ]
  },
  {
   "cell_type": "code",
   "execution_count": 24,
   "metadata": {},
   "outputs": [],
   "source": [
    "import geopandas as gpd\n",
    "import os"
   ]
  },
  {
   "cell_type": "code",
   "execution_count": 25,
   "metadata": {},
   "outputs": [],
   "source": [
    "shapefile = os.path.join(os.path.expanduser('~'), 'Documents', 'Python Scripts', 'dzielniceWAW','dzielniceWAW.shp')\n",
    "street_map =gpd.read_file(shapefile, encoding='utf-8')"
   ]
  },
  {
   "cell_type": "code",
   "execution_count": null,
   "metadata": {},
   "outputs": [],
   "source": [
    "gdf = gpd.GeoDataFrame(baza_mieszkan.loc[:,['Szerokosc','Dlugosc']], geometry=gpd.points_from_xy(baza_mieszkan.loc[:,['Szerokosc','Dlugosc']].Dlugosc, baza_mieszkan.loc[:,['Szerokosc','Dlugosc']].Szerokosc))\n",
    "joinDF=gpd.sjoin(gdf, street_map, how='left',op=\"within\")"
   ]
  },
  {
   "cell_type": "code",
   "execution_count": 27,
   "metadata": {},
   "outputs": [],
   "source": [
    "baza_mieszkan.Lokalizacja = joinDF.nazwa_dzie"
   ]
  },
  {
   "cell_type": "code",
   "execution_count": null,
   "metadata": {},
   "outputs": [],
   "source": [
    "baza_mieszkan = baza_mieszkan.loc[~(baza_mieszkan['Cena']> 12000000),:]"
   ]
  },
  {
   "cell_type": "code",
   "execution_count": 35,
   "metadata": {},
   "outputs": [],
   "source": [
    "baza_mieszkan.to_csv('flat_database.csv', index=False)"
   ]
  }
 ],
 "metadata": {
  "kernelspec": {
   "display_name": "Python 3",
   "language": "python",
   "name": "python3"
  },
  "language_info": {
   "codemirror_mode": {
    "name": "ipython",
    "version": 3
   },
   "file_extension": ".py",
   "mimetype": "text/x-python",
   "name": "python",
   "nbconvert_exporter": "python",
   "pygments_lexer": "ipython3",
   "version": "3.7.6"
  }
 },
 "nbformat": 4,
 "nbformat_minor": 4
}
